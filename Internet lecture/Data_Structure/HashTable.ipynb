{
 "cells": [
  {
   "cell_type": "code",
   "execution_count": 1,
   "metadata": {},
   "outputs": [
    {
     "data": {
      "text/plain": [
       "[0, 0, 0, 0, 0, 0, 0, 0, 0, 0]"
      ]
     },
     "execution_count": 1,
     "metadata": {},
     "output_type": "execute_result"
    }
   ],
   "source": [
    "# 3.1 hash table 만들기\n",
    "hash_table = list([0 for i in range(10)])\n",
    "hash_table"
   ]
  },
  {
   "cell_type": "code",
   "execution_count": 2,
   "metadata": {},
   "outputs": [],
   "source": [
    "#3.2 초간단 해쉬 함수\n",
    "# 다양한 해쉬 함수 고안 기법이 있으며 가장 간단한 방식이 division 법 (나누기를 통한 나머지 값을 사용하는 기법)\n",
    "\n",
    "def hash_func(key):\n",
    "    return key % 5"
   ]
  },
  {
   "cell_type": "code",
   "execution_count": 7,
   "metadata": {},
   "outputs": [
    {
     "name": "stdout",
     "output_type": "stream",
     "text": [
      "97 98 99\n",
      "2 3 4\n"
     ]
    }
   ],
   "source": [
    "# 3.3 해쉬 테이블 저장\n",
    "# 데이터에 따라 필요시 key 생성 방법 정의가 필요함\n",
    "data1 = \"a\"\n",
    "data2 = \"b\"\n",
    "data3 = \"c\"\n",
    "\n",
    "# ord() 문자의 아스키 코드 리턴\n",
    "print(ord(data1[0]),ord(data2[0]),ord(data3[0]))\n",
    "\n",
    "# 키 값 생성\n",
    "print(hash_func(ord(data1[0])),hash_func(ord(data2[0])),hash_func(ord(data3[0])))"
   ]
  },
  {
   "cell_type": "code",
   "execution_count": 10,
   "metadata": {},
   "outputs": [],
   "source": [
    "# 해쉬 테이블에 값 저장 예\n",
    "# data : value 와 같이 data 와 value를 넣으면 해당 data에 대한 key를 찾아서 해당 key에 대응하는 해쉬 주소에 value를 저장하는 예\n",
    "def storage_data(data, value):\n",
    "    key = ord(data[0])\n",
    "    hash_address = hash_func(key)\n",
    "    hash_table[hash_address] = value"
   ]
  },
  {
   "cell_type": "code",
   "execution_count": 11,
   "metadata": {},
   "outputs": [],
   "source": [
    "# 해쉬 테이블에서 특정 주소의 데이터를 가져오는 함수\n",
    "storage_data(\"a\",'2313213')\n",
    "storage_data(\"b\",'523634')\n",
    "storage_data(\"c\",'1241253')"
   ]
  },
  {
   "cell_type": "code",
   "execution_count": 12,
   "metadata": {},
   "outputs": [],
   "source": [
    "def get_data(data):\n",
    "    key = ord(data[0])\n",
    "    hash_address = hash_func(key)\n",
    "    return hash_table[hash_address]"
   ]
  },
  {
   "cell_type": "code",
   "execution_count": 14,
   "metadata": {},
   "outputs": [
    {
     "data": {
      "text/plain": [
       "'2313213'"
      ]
     },
     "execution_count": 14,
     "metadata": {},
     "output_type": "execute_result"
    }
   ],
   "source": [
    "get_data(\"a\")"
   ]
  },
  {
   "cell_type": "code",
   "execution_count": 16,
   "metadata": {},
   "outputs": [],
   "source": [
    "# 프로그래밍 연습1 : 리스트 변수를 활용해서 해쉬 테이블 구현\n",
    "hash_table = list([0 for i in range(8)])\n",
    "\n",
    "def get_key(data):\n",
    "    return hash(data)\n",
    "\n",
    "def hash_function(key):\n",
    "    return key%8\n",
    "\n",
    "def save_data(data, value):\n",
    "    hash_address = hash_function(get_key(data))\n",
    "    hash_table[hash_address] = value\n",
    "\n",
    "def read_data(data):\n",
    "    hash_address = hash_function(get_key(data))\n",
    "    return hash_table[hash_address]"
   ]
  },
  {
   "cell_type": "code",
   "execution_count": 18,
   "metadata": {},
   "outputs": [
    {
     "data": {
      "text/plain": [
       "'213213145'"
      ]
     },
     "execution_count": 18,
     "metadata": {},
     "output_type": "execute_result"
    }
   ],
   "source": [
    "save_data(\"dave\",\"213213145\")\n",
    "save_data(\"cvgfe\",\"2112513213145\")\n",
    "save_data(\"tqwtq\",\"123213213145\")\n",
    "read_data(\"dave\")"
   ]
  },
  {
   "cell_type": "code",
   "execution_count": 20,
   "metadata": {},
   "outputs": [
    {
     "data": {
      "text/plain": [
       "[0, '213213145', '2112513213145', 0, '123213213145', 0, 0, 0]"
      ]
     },
     "execution_count": 20,
     "metadata": {},
     "output_type": "execute_result"
    }
   ],
   "source": [
    "hash_table"
   ]
  },
  {
   "cell_type": "code",
   "execution_count": 32,
   "metadata": {},
   "outputs": [],
   "source": [
    "# 연습2 : 연습 1의 해쉬 테이블 코드에 chaining 기법으로 충돌 해결 코드를 추가\n",
    "hash_table = list([0 for i in range(8)])\n",
    "\n",
    "def get_key(data):\n",
    "    return hash(data)\n",
    "\n",
    "def hash_function(key):\n",
    "    return key%8\n",
    "\n",
    "def save_data(data, value):\n",
    "    index_key = get_key(data)\n",
    "    hash_address = hash_function(index_key)\n",
    "    if hash_table[hash_address] != 0 :\n",
    "        for index in range(len(hash_table[hash_address])):\n",
    "            if hash_table[hash_address][index][0] == index_key:\n",
    "                hash_table[hash_address][index][1] = value\n",
    "                return\n",
    "        hash_table[hash_address].append([index_key, value])\n",
    "    else :\n",
    "        hash_table[hash_address] = [[index_key, value]]\n",
    "\n",
    "def read_data(data):\n",
    "    index_key = get_key(data)\n",
    "    hash_address = hash_function(index_key)\n",
    "    if hash_table[hash_address] != 0 :\n",
    "        for index in range(len(hash_table[hash_address])):\n",
    "            if hash_table[hash_address][index][0] == index_key :\n",
    "              return hash_table[hash_address][index][1]\n",
    "        return None\n",
    "    else :\n",
    "        return None"
   ]
  },
  {
   "cell_type": "code",
   "execution_count": 33,
   "metadata": {},
   "outputs": [
    {
     "name": "stdout",
     "output_type": "stream",
     "text": [
      "3\n",
      "3\n"
     ]
    }
   ],
   "source": [
    "print(hash(\"Dave\") % 8)\n",
    "print(hash(\"Ddd\") % 8)"
   ]
  },
  {
   "cell_type": "code",
   "execution_count": 35,
   "metadata": {},
   "outputs": [
    {
     "data": {
      "text/plain": [
       "'bcv'"
      ]
     },
     "execution_count": 35,
     "metadata": {},
     "output_type": "execute_result"
    }
   ],
   "source": [
    "save_data(\"Dave\",\"213213145\")\n",
    "save_data(\"Ddd\",\"bcv\")\n",
    "read_data(\"Ddd\")"
   ]
  },
  {
   "cell_type": "code",
   "execution_count": 36,
   "metadata": {},
   "outputs": [
    {
     "data": {
      "text/plain": [
       "[0,\n",
       " 0,\n",
       " 0,\n",
       " [[-5656482782329564629, '213213145'], [7376059220836995747, 'bcv']],\n",
       " 0,\n",
       " 0,\n",
       " 0,\n",
       " 0]"
      ]
     },
     "execution_count": 36,
     "metadata": {},
     "output_type": "execute_result"
    }
   ],
   "source": [
    "hash_table"
   ]
  },
  {
   "cell_type": "code",
   "execution_count": 8,
   "metadata": {},
   "outputs": [],
   "source": [
    "# 연습3 : 연습 1의 해쉬 테이블 코드에 Linear Probling 기법으로 충돌 해결 코드를 추가\n",
    "hash_table = list([0 for i in range(8)])\n",
    "\n",
    "def get_key(data):\n",
    "    return hash(data)\n",
    "\n",
    "def hash_function(key):\n",
    "    return key%8\n",
    "\n",
    "def save_data(data, value):\n",
    "    index_key = get_key(data)\n",
    "    hash_address = hash_function(index_key)\n",
    "    if hash_table[hash_address] != 0 :\n",
    "        for index in range(hash_address,len(hash_table)):\n",
    "            if hash_table[index] == 0 :\n",
    "                hash_table[index] = [index_key, value]\n",
    "                return\n",
    "            elif hash_table[index][0] == index_key :\n",
    "                hash_table[index][1] =value\n",
    "                return\n",
    "    else :\n",
    "        hash_table[hash_address] = [index_key,value]\n",
    "\n",
    "def read_data(data):\n",
    "    index_key = get_key(data)\n",
    "    hash_address = hash_function(index_key)\n",
    "    \n",
    "    if hash_table[hash_address] != 0 :\n",
    "        for index in range(hash_address, len(hash_table)):\n",
    "            if hash_table[index] == 0 :\n",
    "              return None\n",
    "            elif hash_table[index][0] == index_key:\n",
    "                return hash_table[index][1]            \n",
    "    else :\n",
    "        return None"
   ]
  },
  {
   "cell_type": "code",
   "execution_count": 9,
   "metadata": {},
   "outputs": [
    {
     "name": "stdout",
     "output_type": "stream",
     "text": [
      "0\n",
      "0\n"
     ]
    }
   ],
   "source": [
    "print(hash(\"Dave\") % 8)\n",
    "print(hash(\"Dbnd\") % 8)"
   ]
  },
  {
   "cell_type": "code",
   "execution_count": 10,
   "metadata": {},
   "outputs": [
    {
     "data": {
      "text/plain": [
       "'1231'"
      ]
     },
     "execution_count": 10,
     "metadata": {},
     "output_type": "execute_result"
    }
   ],
   "source": [
    "save_data(\"Dave\",\"3213123\")\n",
    "save_data(\"Dbnd\",\"1231\")\n",
    "read_data(\"Dbnd\")"
   ]
  },
  {
   "cell_type": "code",
   "execution_count": 13,
   "metadata": {},
   "outputs": [
    {
     "name": "stdout",
     "output_type": "stream",
     "text": [
      "a94a8fe5ccb19ba61c4c0873d391e987982fbbd3\n"
     ]
    }
   ],
   "source": [
    "# SHA-1\n",
    "import hashlib\n",
    "data = \"test\".encode() # encode()는 바이트로 바꾸는 함수\n",
    "hash_object = hashlib.sha1()\n",
    "hash_object.update(data)\n",
    "hex_dig = hash_object.hexdigest()\n",
    "print(hex_dig)"
   ]
  },
  {
   "cell_type": "code",
   "execution_count": 15,
   "metadata": {},
   "outputs": [
    {
     "name": "stdout",
     "output_type": "stream",
     "text": [
      "9f86d081884c7d659a2feaa0c55ad015a3bf4f1b2b0b822cd15d6c15b0f00a08\n"
     ]
    }
   ],
   "source": [
    "# SHA-256\n",
    "import hashlib\n",
    "data = \"test\".encode() # encode()는 바이트로 바꾸는 함수\n",
    "hash_object = hashlib.sha256()\n",
    "hash_object.update(data)\n",
    "hex_dig = hash_object.hexdigest()\n",
    "print(hex_dig)"
   ]
  },
  {
   "cell_type": "code",
   "execution_count": 16,
   "metadata": {},
   "outputs": [],
   "source": [
    "# 연습4 : 연습 2의 chaining 기법을 적용한 해쉬 테이블 코드에 키생성 함수를 sha256 해쉬 알고리즘을 사용하도록 변경\n",
    "import hashlib\n",
    "hash_table = list([0 for i in range(8)])\n",
    "\n",
    "def get_key(data):\n",
    "    hash_object = hashlib.sha256()\n",
    "    hash_object.update(data.encode())\n",
    "    hex_dig = hash_object.hexdigest()\n",
    "    return int(hex_dig, 16)\n",
    "\n",
    "def hash_function(key):\n",
    "    return key%8\n",
    "\n",
    "def save_data(data, value):\n",
    "    index_key = get_key(data)\n",
    "    hash_address = hash_function(index_key)\n",
    "    if hash_table[hash_address] != 0 :\n",
    "        for index in range(hash_address,len(hash_table)):\n",
    "            if hash_table[index] == 0 :\n",
    "                hash_table[index] = [index_key, value]\n",
    "                return\n",
    "            elif hash_table[index][0] == index_key :\n",
    "                hash_table[index][1] =value\n",
    "                return\n",
    "    else :\n",
    "        hash_table[hash_address] = [index_key,value]\n",
    "\n",
    "def read_data(data):\n",
    "    index_key = get_key(data)\n",
    "    hash_address = hash_function(index_key)\n",
    "    \n",
    "    if hash_table[hash_address] != 0 :\n",
    "        for index in range(hash_address, len(hash_table)):\n",
    "            if hash_table[index] == 0 :\n",
    "              return None\n",
    "            elif hash_table[index][0] == index_key:\n",
    "                return hash_table[index][1]            \n",
    "    else :\n",
    "        return None"
   ]
  },
  {
   "cell_type": "code",
   "execution_count": 20,
   "metadata": {},
   "outputs": [
    {
     "data": {
      "text/plain": [
       "'1231'"
      ]
     },
     "execution_count": 20,
     "metadata": {},
     "output_type": "execute_result"
    }
   ],
   "source": [
    "save_data(\"Dave\",\"3213123\")\n",
    "save_data(\"Dbnd\",\"1231\")\n",
    "read_data(\"Dbnd\")"
   ]
  },
  {
   "cell_type": "code",
   "execution_count": null,
   "metadata": {},
   "outputs": [],
   "source": []
  }
 ],
 "metadata": {
  "kernelspec": {
   "display_name": "Python 3",
   "language": "python",
   "name": "python3"
  },
  "language_info": {
   "codemirror_mode": {
    "name": "ipython",
    "version": 3
   },
   "file_extension": ".py",
   "mimetype": "text/x-python",
   "name": "python",
   "nbconvert_exporter": "python",
   "pygments_lexer": "ipython3",
   "version": "3.9.1"
  },
  "orig_nbformat": 4
 },
 "nbformat": 4,
 "nbformat_minor": 2
}
