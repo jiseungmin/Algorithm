{
 "cells": [
  {
   "cell_type": "code",
   "execution_count": null,
   "metadata": {},
   "outputs": [],
   "source": [
    "# 무조건 상수회 실행한다 : O(1)\n",
    "n = 2\n",
    "if n >10 :\n",
    "    print(n)\n",
    "    \n",
    "# n에 따라 n번, n+10번 또는 3n+10번 등을 실행한다. : O(n)\n",
    "variable = 1\n",
    "for num in range(3) :\n",
    "    for index in range(n):\n",
    "        print(index)\n",
    "        \n",
    "# n에 따라 n제곱번 n제곱 + 1000 번, 100n제곱 - 100 또는 300n제곱 + 1번들을 실행한다. : O(n제곱)\n",
    "variable = 1\n",
    "for i in range(100) :\n",
    "    for num in range(n):\n",
    "      for index in range(n):\n",
    "        print(index)"
   ]
  },
  {
   "cell_type": "code",
   "execution_count": 2,
   "metadata": {},
   "outputs": [
    {
     "data": {
      "text/plain": [
       "5050"
      ]
     },
     "execution_count": 2,
     "metadata": {},
     "output_type": "execute_result"
    }
   ],
   "source": [
    "# 알고리즘 1 : 1부터 n까지의 합을 구하는 알고리즘 1 - 시간복잡도는 n\n",
    "\n",
    "def sum_all(n):\n",
    "    total = 0\n",
    "    for num in range(1,n+1):\n",
    "        total += num\n",
    "    return total\n",
    "\n",
    "sum_all(100)"
   ]
  },
  {
   "cell_type": "code",
   "execution_count": 3,
   "metadata": {},
   "outputs": [
    {
     "data": {
      "text/plain": [
       "5050"
      ]
     },
     "execution_count": 3,
     "metadata": {},
     "output_type": "execute_result"
    }
   ],
   "source": [
    "# 1부터 n까지의 합을 구하는 알고리즘 2 - 시간복잡도는 1\n",
    "def sum_all(n):\n",
    "    return int(n*(n+1)/2)\n",
    "\n",
    "sum_all(100)"
   ]
  }
 ],
 "metadata": {
  "kernelspec": {
   "display_name": "Python 3",
   "language": "python",
   "name": "python3"
  },
  "language_info": {
   "codemirror_mode": {
    "name": "ipython",
    "version": 3
   },
   "file_extension": ".py",
   "mimetype": "text/x-python",
   "name": "python",
   "nbconvert_exporter": "python",
   "pygments_lexer": "ipython3",
   "version": "3.9.1"
  },
  "orig_nbformat": 4
 },
 "nbformat": 4,
 "nbformat_minor": 2
}
