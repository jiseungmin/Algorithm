{
 "cells": [
  {
   "cell_type": "code",
   "execution_count": 1,
   "metadata": {},
   "outputs": [],
   "source": [
    "# 어떤 데이터리스트가 있을 때 리스트를 앞뒤로 찌르는 코드 작성해보기\n",
    "def split_data(data):\n",
    "    mid = int(len(data)/2)\n",
    "    left = data[:mid]\n",
    "    right = data[mid:]\n",
    "    return left, right\n",
    " \n",
    "# 재귀용법 활용하기\n",
    "def mergesplit(data):\n",
    "    if len(data)<=1:\n",
    "        return data\n",
    "    \n",
    "    mid = int(len(data)/2)\n",
    "    left = mergesplit(data[:mid])\n",
    "    right = mergesplit(data[mid:])\n",
    "    return merge(left, right)\n",
    "    \n",
    "    \n",
    "# merge 함수 작성\n",
    "def merge(left, right):\n",
    "    merged = []\n",
    "    left_point, right_point = 0, 0\n",
    " \n",
    " # case1 left/right 둘다 있을때\n",
    "    while len(left) > left_point and len(right) > right_point :\n",
    "        if left[left_point] > right[right_point] :\n",
    "            merged.append(right[right_point])\n",
    "            right_point += 1\n",
    "        else :\n",
    "            merged.append(left[left_point])\n",
    "            left_point += 1\n",
    " \n",
    "    # case2 left 데이터가 없을때\n",
    "    while len(left) > left_point:\n",
    "            merged.append(left[left_point])\n",
    "            left_point += 1\n",
    "        \n",
    " # case3 right 데이터가 없을떄\n",
    "    while len(right) > right_point:\n",
    "            merged.append(right[right_point])\n",
    "            right_point += 1\n",
    "    \n",
    "    return merged"
   ]
  },
  {
   "cell_type": "code",
   "execution_count": 2,
   "metadata": {},
   "outputs": [
    {
     "data": {
      "text/plain": [
       "[1, 10, 15, 17, 18, 23, 40, 59, 66, 94]"
      ]
     },
     "execution_count": 2,
     "metadata": {},
     "output_type": "execute_result"
    }
   ],
   "source": [
    "import random\n",
    "\n",
    "data_list = random.sample(range(100), 10)\n",
    "mergesplit(data_list)"
   ]
  },
  {
   "cell_type": "code",
   "execution_count": null,
   "metadata": {},
   "outputs": [],
   "source": []
  }
 ],
 "metadata": {
  "kernelspec": {
   "display_name": "Python 3",
   "language": "python",
   "name": "python3"
  },
  "language_info": {
   "codemirror_mode": {
    "name": "ipython",
    "version": 3
   },
   "file_extension": ".py",
   "mimetype": "text/x-python",
   "name": "python",
   "nbconvert_exporter": "python",
   "pygments_lexer": "ipython3",
   "version": "3.11.2"
  },
  "orig_nbformat": 4
 },
 "nbformat": 4,
 "nbformat_minor": 2
}
