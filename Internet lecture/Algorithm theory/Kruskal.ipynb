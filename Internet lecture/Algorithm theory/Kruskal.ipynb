{
 "cells": [
  {
   "cell_type": "code",
   "execution_count": 4,
   "metadata": {},
   "outputs": [],
   "source": [
    "mygraph = {\n",
    "    'vertices': ['A', 'B', 'C', 'D', 'E', 'F', 'G'],\n",
    "    'edges': [\n",
    "        (7, 'A', 'B'),\n",
    "        (5, 'A', 'D'),\n",
    "        (7, 'B', 'A'),\n",
    "        (8, 'B', 'C'),\n",
    "        (9, 'B', 'D'),\n",
    "        (7, 'B', 'E'),\n",
    "        (8, 'C', 'B'),\n",
    "        (5, 'C', 'E'),\n",
    "        (5, 'D', 'A'),\n",
    "        (9, 'D', 'B'),\n",
    "        (7, 'D', 'E'),\n",
    "        (6, 'D', 'F'),\n",
    "        (7, 'E', 'B'),\n",
    "        (5, 'E', 'C'),\n",
    "        (7, 'E', 'D'),\n",
    "        (8, 'E', 'F'),\n",
    "        (9, 'E', 'G'),\n",
    "        (6, 'F', 'D'),\n",
    "        (8, 'F', 'E'),\n",
    "        (11, 'F', 'G'),\n",
    "        (9, 'G', 'E'),\n",
    "        (11, 'G', 'F')\n",
    "    ]\n",
    "}"
   ]
  },
  {
   "cell_type": "code",
   "execution_count": 28,
   "metadata": {},
   "outputs": [],
   "source": [
    "parent = dict()\n",
    "rank = dict()\n",
    "\n",
    "def find(node):\n",
    "  if parent[node] != node :\n",
    "    parent[node] = find(parent[node])\n",
    "  return parent[node]\n",
    "\n",
    "def union(node_v, node_u):\n",
    "  root1 = find(node_v)\n",
    "  root2 = find(node_u)\n",
    "\n",
    "  if rank[root1] > rank[root2]:\n",
    "    parent[root2] =  root1\n",
    "  else :\n",
    "    parent[root1] = root2\n",
    "    if rank[root1] == rank[root2]:\n",
    "      rank[root2] += 1\n",
    "\n",
    "def make_set(node) :\n",
    "  parent[node] = node\n",
    "  rank[node] = 0\n",
    "  \n",
    "def kruskal(graph):\n",
    "  mst = list()\n",
    "  # 초기화\n",
    "  for node in graph['vertices']:\n",
    "    make_set(node)\n",
    "\n",
    "  # edge weight sort\n",
    "  edges = graph[\"edges\"]\n",
    "  edges.sort()\n",
    "  \n",
    "  #간선연결\n",
    "  for edge in edges :\n",
    "    weight, node_v, node_u = edge\n",
    "    if find(node_v) != find(node_u) :\n",
    "      union(node_v, node_u)\n",
    "      mst.append(edge)\n",
    "\n",
    "  return mst"
   ]
  },
  {
   "cell_type": "code",
   "execution_count": 29,
   "metadata": {},
   "outputs": [
    {
     "data": {
      "text/plain": [
       "[(5, 'A', 'D'),\n",
       " (5, 'C', 'E'),\n",
       " (6, 'D', 'F'),\n",
       " (7, 'A', 'B'),\n",
       " (7, 'B', 'E'),\n",
       " (9, 'E', 'G')]"
      ]
     },
     "execution_count": 29,
     "metadata": {},
     "output_type": "execute_result"
    }
   ],
   "source": [
    "kruskal(mygraph)"
   ]
  }
 ],
 "metadata": {
  "kernelspec": {
   "display_name": "Python 3",
   "language": "python",
   "name": "python3"
  },
  "language_info": {
   "codemirror_mode": {
    "name": "ipython",
    "version": 3
   },
   "file_extension": ".py",
   "mimetype": "text/x-python",
   "name": "python",
   "nbconvert_exporter": "python",
   "pygments_lexer": "ipython3",
   "version": "3.9.1"
  },
  "orig_nbformat": 4
 },
 "nbformat": 4,
 "nbformat_minor": 2
}
