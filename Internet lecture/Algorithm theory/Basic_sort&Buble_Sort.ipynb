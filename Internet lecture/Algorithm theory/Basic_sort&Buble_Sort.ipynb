{
 "cells": [
  {
   "cell_type": "code",
   "execution_count": 5,
   "metadata": {},
   "outputs": [],
   "source": [
    "def buble_sort(data_list):\n",
    "    for index in range(len(data_list)-1):\n",
    "        swap = False\n",
    "        for index2 in range(len(data_list)-index-1):\n",
    "            if data_list[index2] > data_list[index2+1] :\n",
    "                data_list[index2], data_list[index2+1] = data_list[index2+1], data_list[index2]\n",
    "                swap = True\n",
    "\n",
    "        if swap == False :\n",
    "            break\n",
    "    return data_list"
   ]
  },
  {
   "cell_type": "code",
   "execution_count": 6,
   "metadata": {},
   "outputs": [
    {
     "name": "stdout",
     "output_type": "stream",
     "text": [
      "[73, 15, 30, 19, 62, 34, 59, 11, 95, 39]\n",
      "[11, 15, 19, 30, 34, 39, 59, 62, 73, 95]\n"
     ]
    }
   ],
   "source": [
    "import random\n",
    "\n",
    "data_list = random.sample(range(100), 10)\n",
    "print(data_list)\n",
    "print (buble_sort(data_list))"
   ]
  }
 ],
 "metadata": {
  "kernelspec": {
   "display_name": "Python 3",
   "language": "python",
   "name": "python3"
  },
  "language_info": {
   "codemirror_mode": {
    "name": "ipython",
    "version": 3
   },
   "file_extension": ".py",
   "mimetype": "text/x-python",
   "name": "python",
   "nbconvert_exporter": "python",
   "pygments_lexer": "ipython3",
   "version": "3.11.2"
  },
  "orig_nbformat": 4
 },
 "nbformat": 4,
 "nbformat_minor": 2
}
