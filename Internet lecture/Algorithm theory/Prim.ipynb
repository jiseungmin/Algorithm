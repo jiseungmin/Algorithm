{
 "cells": [
  {
   "cell_type": "code",
   "execution_count": null,
   "metadata": {},
   "outputs": [],
   "source": [
    "# heapq 라이브러리를 활용을 통해 우선순위 큐 사용\n",
    "import heapq\n",
    "\n",
    "queue = []\n",
    "graph_data = [[2, 'A'], [5, 'B'], [3, 'C']]\n",
    "\n",
    "for edge in graph_data:\n",
    "  heapq.heappush(queue,edge)\n",
    "\n",
    "for index in range(len(graph_data)):\n",
    "  print(heapq.heappop(queue))\n",
    "\n",
    "print(graph_data)"
   ]
  },
  {
   "cell_type": "code",
   "execution_count": null,
   "metadata": {},
   "outputs": [],
   "source": [
    "import heapq\n",
    "\n",
    "graph_data = [[2, 'A'], [5, 'B'], [3, 'C']]\n",
    "\n",
    "for edge in graph_data:\n",
    "  heapq.heapify(graph_data)\n",
    "\n",
    "for index in range(len(graph_data)):\n",
    "  print(heapq.heappop(graph_data))\n",
    "\n",
    "print(graph_data)"
   ]
  },
  {
   "cell_type": "code",
   "execution_count": null,
   "metadata": {},
   "outputs": [],
   "source": [
    "# collections 라이브러리의 defalutdict 함수 활용하기\n",
    "from collections import defaultdict\n",
    "\n",
    "list_dict = defaultdict(list)\n",
    "print (list_dict['key1'])"
   ]
  },
  {
   "cell_type": "code",
   "execution_count": null,
   "metadata": {},
   "outputs": [],
   "source": [
    "# 프림 알고리즘\n",
    "myedges = [\n",
    "    (7, 'A', 'B'), (5, 'A', 'D'),\n",
    "    (8, 'B', 'C'), (9, 'B', 'D'), (7, 'B', 'E'),\n",
    "    (5, 'C', 'E'),\n",
    "    (7, 'D', 'E'), (6, 'D', 'F'),\n",
    "    (8, 'E', 'F'), (9, 'E', 'G'),\n",
    "    (11, 'F', 'G')\n",
    "]"
   ]
  },
  {
   "cell_type": "code",
   "execution_count": null,
   "metadata": {},
   "outputs": [],
   "source": [
    "from collections import defaultdict\n",
    "from heapq import*\n",
    "\n",
    "def prim(start_node, edges):\n",
    "  mst = list()\n",
    "  adjacent_edges = defaultdict(list)\n",
    "  for weight, n1, n2 in edges:\n",
    "    adjacent_edges[n1].append((weight,n1,n2))\n",
    "    adjacent_edges[n2].append((weight,n1,n2))\n",
    "\n",
    "  connect_nodes = set(start_node)\n",
    "  candidate_edge_list = adjacent_edges[start_node]\n",
    "  heapify(candidate_edge_list)\n",
    "\n",
    "  while candidate_edge_list:\n",
    "    weight, n1, n2 = heappop(candidate_edge_list)\n",
    "    if n2 not in connect_nodes :\n",
    "      connect_nodes.add(n2)\n",
    "      mst.append((weight,n1,n2))\n",
    "\n",
    "      for edge in adjacent_edges[n2]:\n",
    "        if edge[2] not in connect_nodes:\n",
    "          heappush(candidate_edge_list, edge)\n",
    "  \n",
    "  return mst\n",
    "\n",
    "prim('A', myedges)"
   ]
  },
  {
   "cell_type": "code",
   "execution_count": null,
   "metadata": {},
   "outputs": [],
   "source": [
    "#개선된 프림 알고리즘\n",
    "from heapdict import heapdict\n",
    "\n",
    "def prim(graph, start):\n",
    "    mst, keys, pi, total_weight = list(), heapdict(), dict(), 0\n",
    "    for node in graph.keys():\n",
    "        keys[node] = float('inf')\n",
    "        pi[node] = None\n",
    "    keys[start], pi[start] = 0, start\n",
    "\n",
    "    while keys:\n",
    "        current_node, current_key = keys.popitem()\n",
    "        mst.append([pi[current_node], current_node, current_key])\n",
    "        total_weight += current_key\n",
    "        for adjacent, weight in mygraph[current_node].items():\n",
    "            if adjacent in keys and weight < keys[adjacent]:\n",
    "                keys[adjacent] = weight\n",
    "                pi[adjacent] = current_node\n",
    "    return mst, total_weight"
   ]
  },
  {
   "cell_type": "code",
   "execution_count": null,
   "metadata": {},
   "outputs": [],
   "source": [
    "mygraph = {\n",
    "    'A': {'B': 7, 'D': 5},\n",
    "    'B': {'A': 7, 'D': 9, 'C': 8, 'E': 7},\n",
    "    'C': {'B': 8, 'E': 5},\n",
    "    'D': {'A': 5, 'B': 9, 'E': 7, 'F': 6},\n",
    "    'E': {'B': 7, 'C': 5, 'D': 7, 'F': 8, 'G': 9},\n",
    "    'F': {'D': 6, 'E': 8, 'G': 11},\n",
    "    'G': {'E': 9, 'F': 11}    \n",
    "}\n",
    "mst, total_weight = prim(mygraph, 'A')\n",
    "print ('MST:', mst)\n",
    "print ('Total Weight:', total_weight)"
   ]
  }
 ],
 "metadata": {
  "kernelspec": {
   "display_name": "Python 3",
   "language": "python",
   "name": "python3"
  },
  "language_info": {
   "codemirror_mode": {
    "name": "ipython",
    "version": 3
   },
   "file_extension": ".py",
   "mimetype": "text/x-python",
   "name": "python",
   "nbconvert_exporter": "python",
   "pygments_lexer": "ipython3",
   "version": "3.9.1"
  },
  "orig_nbformat": 4
 },
 "nbformat": 4,
 "nbformat_minor": 2
}
