{
 "cells": [
  {
   "cell_type": "code",
   "execution_count": 3,
   "metadata": {},
   "outputs": [
    {
     "data": {
      "text/plain": [
       "3"
      ]
     },
     "execution_count": 3,
     "metadata": {},
     "output_type": "execute_result"
    }
   ],
   "source": [
    "# 피보나치 수열 예시  재귀용법 사용\n",
    "def fibo(num):\n",
    "  if num<=1:\n",
    "    return num\n",
    "  return fibo(num-1) + fibo(num-2)\n",
    "\n",
    "fibo(4) # 3"
   ]
  },
  {
   "cell_type": "code",
   "execution_count": 5,
   "metadata": {},
   "outputs": [
    {
     "data": {
      "text/plain": [
       "55"
      ]
     },
     "execution_count": 5,
     "metadata": {},
     "output_type": "execute_result"
    }
   ],
   "source": [
    "# 동적계획법 사용\n",
    "def fibo_dp(num):\n",
    "  cache = [0 for index in range(num+1)]\n",
    "  cache[0] = 0\n",
    "  cache[1] = 1\n",
    "\n",
    "  for index in range(2, num+1):\n",
    "    cache[index] = cache[index-1] + cache[index-2]\n",
    "  return cache[num]\n",
    "\n",
    "fibo_dp(10) # 55"
   ]
  },
  {
   "cell_type": "markdown",
   "metadata": {},
   "source": [
    "실전 코딩 테스트 - 동적 계획법\n",
    "\n",
    "코드 작성 패턴\n",
    "\n",
    "- 빈 리스트를 만든다.\n",
    "\n",
    "- 초기값을 설정한다.\n",
    "\n",
    "- 점화식기반으로 계산값을 적용한다.\n",
    "\n",
    "- 특정 입력값에 따른 계산값을 리스트에서 추출하기"
   ]
  },
  {
   "cell_type": "code",
   "execution_count": 7,
   "metadata": {},
   "outputs": [
    {
     "name": "stdout",
     "output_type": "stream",
     "text": [
      "2\n"
     ]
    }
   ],
   "source": [
    "# 연습문제 1\n",
    "dp = [0]*1001\n",
    "dp[1] = 1\n",
    "dp[2] = 2\n",
    "\n",
    "for index in range(3,1001):\n",
    "\tdp[index] = dp[index-1] + dp[index-2]\n",
    "\n",
    "print(dp[2]%10007)"
   ]
  },
  {
   "cell_type": "code",
   "execution_count": 8,
   "metadata": {},
   "outputs": [
    {
     "name": "stdout",
     "output_type": "stream",
     "text": [
      "3\n",
      "16\n"
     ]
    }
   ],
   "source": [
    "# 연습문제 2\n",
    "dp = [0] * 101\n",
    "dp[1] = 1\n",
    "dp[2] = 1\n",
    "dp[3] = 1\n",
    "\n",
    "for index in range(0,98) :\n",
    "\tdp[index+3] = dp[index] + dp[index +1]\n",
    "\n",
    "print(dp[6])\n",
    "print(dp[12])"
   ]
  },
  {
   "cell_type": "code",
   "execution_count": 9,
   "metadata": {},
   "outputs": [
    {
     "name": "stdout",
     "output_type": "stream",
     "text": [
      "5\n"
     ]
    }
   ],
   "source": [
    "# 연습문제 3\n",
    "n = 4\n",
    "dp = [0] * 1000001\n",
    "dp[1] = 1\n",
    "dp[2] = 2\n",
    "\n",
    "for index in range(3, n + 1):\n",
    "    dp[index] = ( dp[index - 1] + dp[index - 2] ) % 15746\n",
    "print(dp[n])"
   ]
  }
 ],
 "metadata": {
  "kernelspec": {
   "display_name": "Python 3",
   "language": "python",
   "name": "python3"
  },
  "language_info": {
   "codemirror_mode": {
    "name": "ipython",
    "version": 3
   },
   "file_extension": ".py",
   "mimetype": "text/x-python",
   "name": "python",
   "nbconvert_exporter": "python",
   "pygments_lexer": "ipython3",
   "version": "3.9.1"
  },
  "orig_nbformat": 4
 },
 "nbformat": 4,
 "nbformat_minor": 2
}
